{
  "nbformat": 4,
  "nbformat_minor": 0,
  "metadata": {
    "colab": {
      "name": "Practical 8.ipynb",
      "provenance": [],
      "authorship_tag": "ABX9TyOYRANQt302i6MC4ZItpTbH"
    },
    "kernelspec": {
      "name": "python3",
      "display_name": "Python 3"
    },
    "language_info": {
      "name": "python"
    }
  },
  "cells": [
    {
      "cell_type": "code",
      "execution_count": null,
      "metadata": {
        "colab": {
          "base_uri": "https://localhost:8080/"
        },
        "id": "OiAwckQN6Qcm",
        "outputId": "8022efce-5084-4b7e-d996-0068136ee352"
      },
      "outputs": [
        {
          "output_type": "stream",
          "name": "stdout",
          "text": [
            "[0, 1, 0, 1]\n",
            "[0, 0, 1, 1]\n",
            "[0, 0, 0, 1]\n",
            "[-1, -1, -1, 1]\n"
          ]
        }
      ],
      "source": [
        "import pandas as pd\n",
        "df=pd.read_csv(\"and.csv\")\n",
        "x1=list(df.iloc[:,0])\n",
        "print(x1)\n",
        "x2=list(df.iloc[:,1])\n",
        "print(x2)\n",
        "y=list(df.iloc[:,2])\n",
        "print(y)\n",
        "w0=-0.8\n",
        "w1=0.5\n",
        "w2=0.5\n",
        "output=[]\n",
        "x=0\n",
        "for i in range(0,len(y)):\n",
        "  x= w0+(x1[i]*w1)+(x2[i]*w2)\n",
        "  if x>0:\n",
        "    output.append(1)\n",
        "  else:\n",
        "    output.append(-1)\n",
        "\n",
        "print(output)\n",
        "\n",
        "\n"
      ]
    },
    {
      "cell_type": "code",
      "source": [
        "\n",
        "\n"
      ],
      "metadata": {
        "id": "nbWN9PV0DsuE"
      },
      "execution_count": null,
      "outputs": []
    }
  ]
}